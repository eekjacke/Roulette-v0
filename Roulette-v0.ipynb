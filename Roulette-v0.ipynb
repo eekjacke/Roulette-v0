{
 "cells": [
  {
   "cell_type": "code",
   "execution_count": 6,
   "id": "union-bathroom",
   "metadata": {},
   "outputs": [
    {
     "name": "stdout",
     "output_type": "stream",
     "text": [
      "Num GPUs Available:  1\n",
      "['/device:CPU:0', '/device:XLA_CPU:0', '/device:GPU:0', '/device:XLA_GPU:0']\n"
     ]
    }
   ],
   "source": [
    "import os\n",
    "import tensorflow as tf\n",
    "\n",
    "# If there are multiple GPUs and we only want to use one/some, set the number in the visible device list.\n",
    "os.environ[\"CUDA_DEVICE_ORDER\"]=\"PCI_BUS_ID\"\n",
    "os.environ[\"CUDA_VISIBLE_DEVICES\"]=\"0,1,2,3,4\"\n",
    "\n",
    "# This sets the GPU to allocate memory only as needed\n",
    "physical_devices = tf.config.experimental.list_physical_devices('GPU')\n",
    "if len(physical_devices) != 0:\n",
    "    tf.config.experimental.set_memory_growth(physical_devices[0], True) \n",
    "\n",
    "print(\"Num GPUs Available: \", len(tf.config.list_physical_devices('GPU')))\n",
    "\n",
    "from tensorflow.python.client import device_lib\n",
    "def get_available_devices():\n",
    "    local_device_protos = device_lib.list_local_devices()\n",
    "    return [x.name for x in local_device_protos]\n",
    "print(get_available_devices()) "
   ]
  },
  {
   "cell_type": "code",
   "execution_count": 7,
   "id": "instant-access",
   "metadata": {},
   "outputs": [],
   "source": [
    "def chooseAction(Q, state, eps):\n",
    "    if np.random.uniform(low = 0, high = 1) < 1 - eps:\n",
    "        action = np.argmax(Q[state])\n",
    "    else:\n",
    "        action = np.random.randint(0, env.action_space.n) # Selects int from [0,3)\n",
    "    return action\n",
    "\n",
    "def getEpsilon(eps, minEps, currEpisode):\n",
    "    if eps > minEps:\n",
    "        eps -= (eps - minEps)/currEpisode\n",
    "    return eps"
   ]
  },
  {
   "cell_type": "code",
   "execution_count": 26,
   "id": "modified-signature",
   "metadata": {},
   "outputs": [
    {
     "name": "stdout",
     "output_type": "stream",
     "text": [
      "Episode 1000 Average Reward -0.046\n",
      "Episode 2000 Average Reward -0.001\n",
      "Episode 3000 Average Reward 0.01\n",
      "Episode 4000 Average Reward -0.002\n",
      "Episode 5000 Average Reward 0.001\n",
      "Episode 6000 Average Reward -0.009\n",
      "Episode 7000 Average Reward -0.008\n",
      "Episode 8000 Average Reward -0.003\n",
      "Episode 9000 Average Reward 0.001\n",
      "Episode 10000 Average Reward -0.002\n",
      "Episode 11000 Average Reward -0.003\n",
      "Episode 12000 Average Reward 0.0\n",
      "Episode 13000 Average Reward 0.001\n",
      "Episode 14000 Average Reward -0.003\n",
      "Episode 15000 Average Reward 0.001\n",
      "Episode 16000 Average Reward -0.007\n",
      "Episode 17000 Average Reward 0.011\n",
      "Episode 18000 Average Reward -0.004\n",
      "Episode 19000 Average Reward -0.003\n",
      "Episode 20000 Average Reward -0.002\n",
      "Episode 21000 Average Reward -0.002\n",
      "Episode 22000 Average Reward 0.002\n",
      "Episode 23000 Average Reward -0.002\n",
      "Episode 24000 Average Reward -0.001\n",
      "Episode 25000 Average Reward 0.0\n",
      "Episode 26000 Average Reward -0.002\n",
      "Episode 27000 Average Reward 0.0\n",
      "Episode 28000 Average Reward 0.001\n",
      "Episode 29000 Average Reward -0.002\n",
      "Episode 30000 Average Reward 0.005\n",
      "Episode 31000 Average Reward 0.001\n",
      "Episode 32000 Average Reward -0.003\n",
      "Episode 33000 Average Reward -0.003\n",
      "Episode 34000 Average Reward -0.003\n",
      "Episode 35000 Average Reward -0.008\n",
      "Episode 36000 Average Reward 0.004\n",
      "Episode 37000 Average Reward 0.121\n",
      "Episode 38000 Average Reward 0.0\n",
      "Episode 39000 Average Reward 0.001\n",
      "Episode 40000 Average Reward -0.001\n"
     ]
    }
   ],
   "source": [
    "import gym\n",
    "import numpy as np\n",
    "import matplotlib.pyplot as plt\n",
    "\n",
    "env = gym.make(\"Roulette-v0\")\n",
    "env.reset()\n",
    "\n",
    "Q = np.random.uniform(low = 0, high = 1, size=(env.observation_space.n, env.action_space.n))\n",
    "V = np.zeros(env.observation_space.n)\n",
    "Pi = -1*np.ones(env.observation_space.n)\n",
    "\n",
    "numEpisodes = 40000\n",
    "eta = 0.1\n",
    "gamma = 0.9\n",
    "eps = 0.9\n",
    "rewardList = []\n",
    "avgRewardList = []\n",
    "for i in range(numEpisodes):\n",
    "    # Current state\n",
    "    totReward = 0\n",
    "    reward = 0\n",
    "    sCurr = env.reset()\n",
    "    done = False\n",
    "    while not done:\n",
    "        action = chooseAction(Q, sCurr, eps)\n",
    "        sNext, reward, done, _ = env.step(action)\n",
    "        if done:\n",
    "            Q[sCurr, action] = reward\n",
    "        else:\n",
    "            Q[sCurr,action] = (1-eta)*Q[sCurr,action] \\\n",
    "            + eta*(reward + gamma*np.max(Q[sNext]))\n",
    "        totReward += reward\n",
    "    \n",
    "    rewardList.append(totReward)\n",
    "    eps = getEpsilon(eps, 0.01, i+1)\n",
    "    if (i+1) % 1000 == 0:\n",
    "        avgReward = np.mean(rewardList)\n",
    "        avgRewardList.append(avgReward)\n",
    "        rewardList = []\n",
    "        print('Episode {} Average Reward {}'.format(i+1, avgReward))\n",
    "    \n",
    "env.close()\n",
    "for i in range(Q.shape[0]):\n",
    "    Pi[i] = np.argmax(Q[i])\n",
    "    V[i] = np.max(Q[i])"
   ]
  },
  {
   "cell_type": "code",
   "execution_count": 28,
   "id": "understood-president",
   "metadata": {},
   "outputs": [
    {
     "name": "stdout",
     "output_type": "stream",
     "text": [
      "[37.]\n"
     ]
    },
    {
     "data": {
      "image/png": "[encoded data removed]",
      "text/plain": [
       "<Figure size 432x288 with 1 Axes>"
      ]
     },
     "metadata": {
      "needs_background": "light"
     },
     "output_type": "display_data"
    }
   ],
   "source": [
    "plt.plot(1000*(np.arange(len(avgRewardList)) + 1), avgRewardList)\n",
    "plt.xlabel('Episodes')\n",
    "plt.ylabel('Average reward')\n",
    "\n",
    "print('Optimal action {} '.format(i+1, avgReward))\n"
   ]
  }
 ],
 "metadata": {
  "kernelspec": {
   "display_name": "Python 3",
   "language": "python",
   "name": "python3"
  },
  "language_info": {
   "codemirror_mode": {
    "name": "ipython",
    "version": 3
   },
   "file_extension": ".py",
   "mimetype": "text/x-python",
   "name": "python",
   "nbconvert_exporter": "python",
   "pygments_lexer": "ipython3",
   "version": "3.8.5"
  }
 },
 "nbformat": 4,
 "nbformat_minor": 5
}
